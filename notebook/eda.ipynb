{
 "cells": [
  {
   "cell_type": "code",
   "execution_count": 26,
   "metadata": {
    "collapsed": true
   },
   "outputs": [],
   "source": [
    "from json import load\n",
    "\n",
    "from matplotlib import pyplot as plt\n",
    "import numpy as np\n",
    "import networkx as nx\n",
    "from networkx.algorithms import betweenness_centrality"
   ]
  },
  {
   "cell_type": "code",
   "execution_count": 5,
   "outputs": [],
   "source": [
    "with open(\"../data/wallet_complete_with_failed.json\", \"r\") as file:\n",
    "    data = load(file)"
   ],
   "metadata": {
    "collapsed": false,
    "pycharm": {
     "name": "#%%\n"
    }
   }
  },
  {
   "cell_type": "code",
   "execution_count": 7,
   "outputs": [
    {
     "data": {
      "text/plain": "3858"
     },
     "execution_count": 7,
     "metadata": {},
     "output_type": "execute_result"
    }
   ],
   "source": [
    "len(data)"
   ],
   "metadata": {
    "collapsed": false,
    "pycharm": {
     "name": "#%%\n"
    }
   }
  },
  {
   "cell_type": "code",
   "execution_count": 8,
   "outputs": [],
   "source": [
    "def build_graph_from_dict(data_dict):\n",
    "    g = nx.DiGraph()\n",
    "    for package, deps in data_dict.items():\n",
    "        g.add_node(package)\n",
    "        for dep in deps:\n",
    "            g.add_edge(package, dep)\n",
    "    return g"
   ],
   "metadata": {
    "collapsed": false,
    "pycharm": {
     "name": "#%%\n"
    }
   }
  },
  {
   "cell_type": "code",
   "execution_count": 9,
   "outputs": [],
   "source": [
    "dep_graph = build_graph_from_dict(data)"
   ],
   "metadata": {
    "collapsed": false,
    "pycharm": {
     "name": "#%%\n"
    }
   }
  },
  {
   "cell_type": "code",
   "execution_count": 10,
   "outputs": [
    {
     "data": {
      "text/plain": "9113"
     },
     "execution_count": 10,
     "metadata": {},
     "output_type": "execute_result"
    }
   ],
   "source": [
    "dep_graph.number_of_edges()"
   ],
   "metadata": {
    "collapsed": false,
    "pycharm": {
     "name": "#%%\n"
    }
   }
  },
  {
   "cell_type": "code",
   "execution_count": 14,
   "outputs": [
    {
     "data": {
      "text/plain": "[('npm', 0.0002938546032225839),\n ('idna-uts46-hx', 0.0002693681685064336),\n ('eth-lib', 0.0002624189403464192),\n ('eth-ens-namehash', 0.00024411129877185451),\n ('web3-utils', 0.00024064896698924247),\n ('web3', 0.00022246478643005334),\n ('servify', 0.00022202581393094035),\n ('request', 0.00021467222701901777),\n ('web3-eth', 0.00016571897736047828),\n ('web3-eth-ens', 0.0001631717564889897),\n ('express', 0.00010126259720273963),\n ('glob', 9.240753931183763e-05),\n ('jest-config', 8.13126370050397e-05),\n ('http-signature', 7.238739455759344e-05),\n ('update-notifier', 6.947314035744969e-05),\n ('react-scripts', 6.620987297831776e-05),\n ('@babel/core', 6.606376601295749e-05),\n ('jsdom', 6.505151329516264e-05),\n ('ethereumjs-util', 6.493169034290168e-05),\n ('es-abstract', 6.14437612381958e-05),\n ('jest-environment-jsdom', 5.9886248954218205e-05),\n ('got', 5.396394846473069e-05),\n ('npm-registry-fetch', 5.20485481124961e-05),\n ('readable-stream', 5.1805613840639556e-05),\n ('chalk', 5.160798050982522e-05),\n ('node-gyp', 5.1418163186444204e-05),\n ('jest-haste-map', 5.0624918187138526e-05),\n ('jest-runtime', 4.69254742606561e-05),\n ('web3-core-helpers', 4.680113593832376e-05),\n ('@babel/traverse', 4.4073349344089596e-05)]"
     },
     "execution_count": 14,
     "metadata": {},
     "output_type": "execute_result"
    }
   ],
   "source": [
    "betw = betweenness_centrality(dep_graph)\n",
    "betw = sorted(betw.items(), key=lambda x: x[1], reverse=True)\n",
    "betw[:30]"
   ],
   "metadata": {
    "collapsed": false,
    "pycharm": {
     "name": "#%%\n"
    }
   }
  },
  {
   "cell_type": "code",
   "execution_count": 29,
   "outputs": [
    {
     "data": {
      "text/plain": "<Figure size 432x288 with 1 Axes>",
      "image/png": "[encoded data removed]"
     },
     "metadata": {
      "needs_background": "light"
     },
     "output_type": "display_data"
    }
   ],
   "source": [
    "# in-degree of a package is the number of packages depend on it\n",
    "in_degree_sequence = [degree for _, degree in dep_graph.in_degree()]\n",
    "unique, counts = np.unique(in_degree_sequence, return_counts=True)\n",
    "counts_map = np.asarray((unique, counts)).T\n",
    "in_deg_dist = counts_map[:, 1] / np.sum(counts_map[:, 1])\n",
    "_, ax = plt.subplots()\n",
    "ax.loglog(in_deg_dist, 'r.', label='In degree')\n",
    "ax.legend(loc='upper right', shadow=True, fontsize='x-large')\n",
    "plt.title('Degree Distribution')\n",
    "plt.xlabel('degree')\n",
    "plt.ylabel('frequency')\n",
    "plt.show()\n"
   ],
   "metadata": {
    "collapsed": false,
    "pycharm": {
     "name": "#%%\n"
    }
   }
  }
 ],
 "metadata": {
  "kernelspec": {
   "name": "python3",
   "language": "python",
   "display_name": "Python 3"
  },
  "language_info": {
   "codemirror_mode": {
    "name": "ipython",
    "version": 2
   },
   "file_extension": ".py",
   "mimetype": "text/x-python",
   "name": "python",
   "nbconvert_exporter": "python",
   "pygments_lexer": "ipython2",
   "version": "2.7.6"
  }
 },
 "nbformat": 4,
 "nbformat_minor": 0
}